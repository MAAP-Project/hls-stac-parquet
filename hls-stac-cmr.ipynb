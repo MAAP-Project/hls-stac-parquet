{
  "nbformat_minor":5,
  "nbformat":4,
  "cells":[{
      "id":"a56d4d6e",
      "outputs":[],
      "cell_type":"code",
      "execution_count":0,
      "metadata":{
      },
      "source":["# /// script\n","# requires-python = \">=3.13\"\n","# dependencies = [\n","#     \"earthaccess\",\n","#     \"httpx\",\n","#     \"obstore\",\n","#     \"pystac\",\n","#     \"python-cmr\",\n","#     \"rustac\",\n","#     \"smart-open\",\n","#     \"tqdm\",\n","# ]\n","# ///"]
    },{
      "id":"d1456711-e656-45f1-805c-22df149e41c5",
      "outputs":[],
      "cell_type":"code",
      "execution_count":7,
      "metadata":{
      },
      "source":["\n","import json\n","from typing import Any\n","from urllib.parse import urlparse\n","\n","import earthaccess\n","import httpx\n","import obstore as obs\n","import pystac\n","import rustac\n","import smart_open\n","import tqdm\n","from cmr import GranuleQuery\n","from obstore.store import from_url\n","\n","auth = earthaccess.login(strategy=\"netrc\")"]
    },{
      "id":"5fb9ad58-a146-4d7a-bb3a-d03f9feca36b",
      "outputs":[],
      "cell_type":"markdown",
      "execution_count":0,
      "metadata":{
      },
      "source":["Run a CMR granule query but specify the `stac` output format\n"]
    },{
      "id":"6ab7c08a-9e57-459c-aad8-ec56775f2e79",
      "outputs":[{
          "text":["this query yields 8003 results!\n"],
          "name":"stdout",
          "output_type":"stream"
        }],
      "cell_type":"code",
      "execution_count":10,
      "metadata":{
      },
      "source":["api = GranuleQuery()\n","\n","granule_query = (\n","    api\n","    .collection_concept_id(\n","        [\n","            \"C2021957657-LPCLOUD\",  # HLSL30\n","            \"C2021957295-LPCLOUD\",  # HLSS30\n","        ]\n","    )\n","    .bounding_box(-180, 30, 180, 80)\n","    .temporal(\"2024-06-01T00:00:00Z\", \"2024-06-02T00:00:00Z\")\n",")\n","\n","print(f\"this query yields {granule_query.hits()} results!\")"]
    },{
      "id":"73e22141-6fa6-4508-99bf-6c4ece085bed",
      "outputs":[],
      "cell_type":"markdown",
      "execution_count":0,
      "metadata":{
      },
      "source":["We can use this granule query to iterate through paged results following the example from the unreleased `results()` method:\n"]
    },{
      "id":"f58f3bfd-cae7-4281-97b3-f2016373acde",
      "outputs":[],
      "cell_type":"code",
      "execution_count":11,
      "metadata":{
      },
      "source":["def get_results(query, page_size: int = 2000):\n","    page_size = min(max(1, page_size), 2000)\n","    url = query._build_url() + f\"&page_size={page_size}\"\n","    headers = dict(query.headers or {})\n","\n","    while True:\n","        response = httpx.get(url, headers=headers, timeout=None)\n","        response.raise_for_status()\n","\n","        if query._format == \"json\":\n","            yield from response.json()[\"feed\"][\"entry\"]\n","        else:\n","            yield response.text\n","\n","        if not (cmr_search_after := response.headers.get(\"cmr-search-after\")):\n","            break\n","\n","        headers[\"cmr-search-after\"] = cmr_search_after"]
    },{
      "id":"495fe5ff-8bfc-483c-a1ed-825afa1d160f",
      "outputs":[],
      "cell_type":"code",
      "execution_count":21,
      "metadata":{
      },
      "source":["results = get_results(granule_query)"]
    },{
      "id":"b7495f9f-71b1-4823-a3c8-8bea32f68022",
      "outputs":[{
          "text":["CPU times: user 812 ms, sys: 96.2 ms, total: 908 ms\n","Wall time: 20.9 s\n"],
          "name":"stdout",
          "output_type":"stream"
        }],
      "cell_type":"code",
      "execution_count":22,
      "metadata":{
      },
      "source":["%%time\n","def get_stac_json_links(result, prefix: str = \"https\"):\n","    url = next(\n","        link[\"href\"] for link in result[\"links\"]\n","        if link[\"href\"].endswith(\"stac.json\") and link[\"href\"].startswith(prefix)\n","    )\n","    return urlparse(url)\n","\n","\n","stac_json_links = [get_stac_json_links(result) for result in results]"]
    },{
      "id":"7aec0808-6d3a-417f-a311-76a5b64d9cf7",
      "outputs":[{
          "execution_count":25,
          "data":{
            "text/plain":["ParseResult(scheme='https', netloc='data.lpdaac.earthdatacloud.nasa.gov', path='/lp-prod-public/HLSS30.020/HLS.S30.T01WEV.2024153T000609.v2.0/HLS.S30.T01WEV.2024153T000609.v2.0_stac.json', params='', query='', fragment='')"]
          },
          "metadata":{
          },
          "output_type":"execute_result"
        }],
      "cell_type":"code",
      "execution_count":25,
      "metadata":{
      },
      "source":["link = stac_json_links[0]\n","link"]
    },{
      "id":"453a7768-ea05-4b30-9ab8-42e8ef7027af",
      "outputs":[{
          "execution_count":33,
          "data":{
            "text/plain":["{'type': 'Feature',\n"," 'stac_version': '1.0.0',\n"," 'id': 'HLS.S30.T01WEV.2024153T000609.v2.0',\n"," 'properties': {'start_datetime': '2024-06-01T00:06:19.072460Z',\n","  'end_datetime': '2024-06-01T00:06:19.072460Z',\n","  'platform': 'sentinel-2b',\n","  'instruments': ['msi'],\n","  'eo:cloud_cover': 18.0,\n","  'proj:transform': [30.0,\n","   0.0,\n","   499980.0,\n","   0.0,\n","   -30.0,\n","   8000040.0,\n","   0.0,\n","   0.0,\n","   1.0],\n","  'proj:shape': [3660, 3660],\n","  'proj:epsg': 32601,\n","  'view:sun_azimuth': 187.71039035,\n","  'view:azimuth': 296.0704673,\n","  'sci:doi': '10.5067/HLS/HLSS30.002',\n","  'datetime': '2024-06-01T00:06:19.072460Z'},\n"," 'geometry': {'type': 'MultiPolygon',\n","  'coordinates': [[[[-177.000554, 71.115154],\n","     [-177.000575, 71.841919],\n","     [-175.544595, 71.573861],\n","     [-173.959239, 71.242815],\n","     [-173.940843, 71.2374],\n","     [-173.963758, 71.090475],\n","     [-177.000554, 71.115154]]]]},\n"," 'links': [{'rel': 'self',\n","   'href': 'https://data.lpdaac.earthdatacloud.nasa.gov/lp-prod-public/HLSS30.020/HLS.S30.T01WEV.2024153T000609.v2.0/HLS.S30.T01WEV.2024153T000609.v2.0_stac.json',\n","   'type': 'application/json'},\n","  {'rel': 'cite-as', 'href': 'https://doi.org/10.5067/HLS/HLSS30.002'}],\n"," 'assets': {'B01': {'href': 'https://data.lpdaac.earthdatacloud.nasa.gov/lp-prod-protected/HLSS30.020/HLS.S30.T01WEV.2024153T000609.v2.0/HLS.S30.T01WEV.2024153T000609.v2.0.B01.tif',\n","   'type': 'image/tiff; application=geotiff; profile=cloud-optimized',\n","   'eo:bands': [{'name': 'B01',\n","     'common_name': 'coastal',\n","     'center_wavelength': 0.4439,\n","     'full_width_half_max': 0.027}],\n","   'roles': ['data']},\n","  'B02': {'href': 'https://data.lpdaac.earthdatacloud.nasa.gov/lp-prod-protected/HLSS30.020/HLS.S30.T01WEV.2024153T000609.v2.0/HLS.S30.T01WEV.2024153T000609.v2.0.B02.tif',\n","   'type': 'image/tiff; application=geotiff; profile=cloud-optimized',\n","   'eo:bands': [{'name': 'B02',\n","     'common_name': 'blue',\n","     'center_wavelength': 0.4966,\n","     'full_width_half_max': 0.098}],\n","   'roles': ['data']},\n","  'B03': {'href': 'https://data.lpdaac.earthdatacloud.nasa.gov/lp-prod-protected/HLSS30.020/HLS.S30.T01WEV.2024153T000609.v2.0/HLS.S30.T01WEV.2024153T000609.v2.0.B03.tif',\n","   'type': 'image/tiff; application=geotiff; profile=cloud-optimized',\n","   'eo:bands': [{'name': 'B03',\n","     'common_name': 'green',\n","     'center_wavelength': 0.56,\n","     'full_width_half_max': 0.045}],\n","   'roles': ['data']},\n","  'B04': {'href': 'https://data.lpdaac.earthdatacloud.nasa.gov/lp-prod-protected/HLSS30.020/HLS.S30.T01WEV.2024153T000609.v2.0/HLS.S30.T01WEV.2024153T000609.v2.0.B04.tif',\n","   'type': 'image/tiff; application=geotiff; profile=cloud-optimized',\n","   'eo:bands': [{'name': 'B04',\n","     'common_name': 'red',\n","     'center_wavelength': 0.6645,\n","     'full_width_half_max': 0.038}],\n","   'roles': ['data']},\n","  'B05': {'href': 'https://data.lpdaac.earthdatacloud.nasa.gov/lp-prod-protected/HLSS30.020/HLS.S30.T01WEV.2024153T000609.v2.0/HLS.S30.T01WEV.2024153T000609.v2.0.B05.tif',\n","   'type': 'image/tiff; application=geotiff; profile=cloud-optimized',\n","   'eo:bands': [{'name': 'B05',\n","     'center_wavelength': 0.7039,\n","     'full_width_half_max': 0.019}],\n","   'roles': ['data']},\n","  'B06': {'href': 'https://data.lpdaac.earthdatacloud.nasa.gov/lp-prod-protected/HLSS30.020/HLS.S30.T01WEV.2024153T000609.v2.0/HLS.S30.T01WEV.2024153T000609.v2.0.B06.tif',\n","   'type': 'image/tiff; application=geotiff; profile=cloud-optimized',\n","   'eo:bands': [{'name': 'B06',\n","     'center_wavelength': 0.7402,\n","     'full_width_half_max': 0.018}],\n","   'roles': ['data']},\n","  'B07': {'href': 'https://data.lpdaac.earthdatacloud.nasa.gov/lp-prod-protected/HLSS30.020/HLS.S30.T01WEV.2024153T000609.v2.0/HLS.S30.T01WEV.2024153T000609.v2.0.B07.tif',\n","   'type': 'image/tiff; application=geotiff; profile=cloud-optimized',\n","   'eo:bands': [{'name': 'B07',\n","     'center_wavelength': 0.7825,\n","     'full_width_half_max': 0.028}],\n","   'roles': ['data']},\n","  'B08': {'href': 'https://data.lpdaac.earthdatacloud.nasa.gov/lp-prod-protected/HLSS30.020/HLS.S30.T01WEV.2024153T000609.v2.0/HLS.S30.T01WEV.2024153T000609.v2.0.B08.tif',\n","   'type': 'image/tiff; application=geotiff; profile=cloud-optimized',\n","   'eo:bands': [{'name': 'B08',\n","     'common_name': 'nir',\n","     'center_wavelength': 0.8351,\n","     'full_width_half_max': 0.145}],\n","   'roles': ['data']},\n","  'B8A': {'href': 'https://data.lpdaac.earthdatacloud.nasa.gov/lp-prod-protected/HLSS30.020/HLS.S30.T01WEV.2024153T000609.v2.0/HLS.S30.T01WEV.2024153T000609.v2.0.B8A.tif',\n","   'type': 'image/tiff; application=geotiff; profile=cloud-optimized',\n","   'eo:bands': [{'name': 'B8A',\n","     'center_wavelength': 0.8648,\n","     'full_width_half_max': 0.033}],\n","   'roles': ['data']},\n","  'B09': {'href': 'https://data.lpdaac.earthdatacloud.nasa.gov/lp-prod-protected/HLSS30.020/HLS.S30.T01WEV.2024153T000609.v2.0/HLS.S30.T01WEV.2024153T000609.v2.0.B09.tif',\n","   'type': 'image/tiff; application=geotiff; profile=cloud-optimized',\n","   'eo:bands': [{'name': 'B09',\n","     'center_wavelength': 0.945,\n","     'full_width_half_max': 0.026}],\n","   'roles': ['data']},\n","  'B10': {'href': 'https://data.lpdaac.earthdatacloud.nasa.gov/lp-prod-protected/HLSS30.020/HLS.S30.T01WEV.2024153T000609.v2.0/HLS.S30.T01WEV.2024153T000609.v2.0.B10.tif',\n","   'type': 'image/tiff; application=geotiff; profile=cloud-optimized',\n","   'eo:bands': [{'name': 'B10',\n","     'common_name': 'cirrus',\n","     'center_wavelength': 1.3735,\n","     'full_width_half_max': 0.075}],\n","   'roles': ['data']},\n","  'B11': {'href': 'https://data.lpdaac.earthdatacloud.nasa.gov/lp-prod-protected/HLSS30.020/HLS.S30.T01WEV.2024153T000609.v2.0/HLS.S30.T01WEV.2024153T000609.v2.0.B11.tif',\n","   'type': 'image/tiff; application=geotiff; profile=cloud-optimized',\n","   'eo:bands': [{'name': 'B11',\n","     'common_name': 'swir16',\n","     'center_wavelength': 1.6137,\n","     'full_width_half_max': 0.143}],\n","   'roles': ['data']},\n","  'B12': {'href': 'https://data.lpdaac.earthdatacloud.nasa.gov/lp-prod-protected/HLSS30.020/HLS.S30.T01WEV.2024153T000609.v2.0/HLS.S30.T01WEV.2024153T000609.v2.0.B12.tif',\n","   'type': 'image/tiff; application=geotiff; profile=cloud-optimized',\n","   'eo:bands': [{'name': 'B12',\n","     'common_name': 'swir22',\n","     'center_wavelength': 2.22024,\n","     'full_width_half_max': 0.242}],\n","   'roles': ['data']},\n","  'Fmask': {'href': 'https://data.lpdaac.earthdatacloud.nasa.gov/lp-prod-protected/HLSS30.020/HLS.S30.T01WEV.2024153T000609.v2.0/HLS.S30.T01WEV.2024153T000609.v2.0.Fmask.tif',\n","   'type': 'image/tiff; application=geotiff; profile=cloud-optimized',\n","   'eo:bands': [{'name': 'Fmask'}],\n","   'roles': ['data']},\n","  'SZA': {'href': 'https://data.lpdaac.earthdatacloud.nasa.gov/lp-prod-protected/HLSS30.020/HLS.S30.T01WEV.2024153T000609.v2.0/HLS.S30.T01WEV.2024153T000609.v2.0.SZA.tif',\n","   'type': 'image/tiff; application=geotiff; profile=cloud-optimized',\n","   'eo:bands': [{'name': 'SZA'}],\n","   'roles': ['data']},\n","  'SAA': {'href': 'https://data.lpdaac.earthdatacloud.nasa.gov/lp-prod-protected/HLSS30.020/HLS.S30.T01WEV.2024153T000609.v2.0/HLS.S30.T01WEV.2024153T000609.v2.0.SAA.tif',\n","   'type': 'image/tiff; application=geotiff; profile=cloud-optimized',\n","   'eo:bands': [{'name': 'SAA'}],\n","   'roles': ['data']},\n","  'VZA': {'href': 'https://data.lpdaac.earthdatacloud.nasa.gov/lp-prod-protected/HLSS30.020/HLS.S30.T01WEV.2024153T000609.v2.0/HLS.S30.T01WEV.2024153T000609.v2.0.VZA.tif',\n","   'type': 'image/tiff; application=geotiff; profile=cloud-optimized',\n","   'eo:bands': [{'name': 'VZA'}],\n","   'roles': ['data']},\n","  'VAA': {'href': 'https://data.lpdaac.earthdatacloud.nasa.gov/lp-prod-protected/HLSS30.020/HLS.S30.T01WEV.2024153T000609.v2.0/HLS.S30.T01WEV.2024153T000609.v2.0.VAA.tif',\n","   'type': 'image/tiff; application=geotiff; profile=cloud-optimized',\n","   'eo:bands': [{'name': 'VAA'}],\n","   'roles': ['data']},\n","  'thumbnail': {'href': 'https://data.lpdaac.earthdatacloud.nasa.gov/lp-prod-public/HLSS30.020/HLS.S30.T01WEV.2024153T000609.v2.0/HLS.S30.T01WEV.2024153T000609.v2.0.jpg',\n","   'type': 'image/jpeg',\n","   'roles': ['thumbnail']}},\n"," 'bbox': [-177.000575, 71.090475, -173.940843, 71.841919],\n"," 'stac_extensions': ['https://stac-extensions.github.io/eo/v1.0.0/schema.json',\n","  'https://stac-extensions.github.io/projection/v1.0.0/schema.json',\n","  'https://stac-extensions.github.io/view/v1.0.0/schema.json',\n","  'https://stac-extensions.github.io/scientific/v1.0.0/schema.json']}"]
          },
          "metadata":{
          },
          "output_type":"execute_result"
        }],
      "cell_type":"code",
      "execution_count":33,
      "metadata":{
      },
      "source":["store = from_url(\n","    link.scheme + \"://\" + link.netloc\n",")\n","\n","item_data = await obs.get_async(store, stac_json_links[0].path)\n","item_bytes = await item_data.bytes_async()\n","item_dict = json.loads(item_bytes.to_bytes().decode(\"utf-8\"))\n","item_dict"]
    },{
      "id":"74fdddd2-faf2-4cac-af9e-d10f40b35f5b",
      "outputs":[{
          "execution_count":32,
          "data":{
            "text/plain":["{'type': 'Feature',\n"," 'stac_version': '1.0.0',\n"," 'id': 'HLS.S30.T01WEV.2024153T000609.v2.0',\n"," 'properties': {'start_datetime': '2024-06-01T00:06:19.072460Z',\n","  'end_datetime': '2024-06-01T00:06:19.072460Z',\n","  'platform': 'sentinel-2b',\n","  'instruments': ['msi'],\n","  'eo:cloud_cover': 18.0,\n","  'proj:transform': [30.0,\n","   0.0,\n","   499980.0,\n","   0.0,\n","   -30.0,\n","   8000040.0,\n","   0.0,\n","   0.0,\n","   1.0],\n","  'proj:shape': [3660, 3660],\n","  'proj:epsg': 32601,\n","  'view:sun_azimuth': 187.71039035,\n","  'view:azimuth': 296.0704673,\n","  'sci:doi': '10.5067/HLS/HLSS30.002',\n","  'datetime': '2024-06-01T00:06:19.072460Z'},\n"," 'geometry': {'type': 'MultiPolygon',\n","  'coordinates': [[[[-177.000554, 71.115154],\n","     [-177.000575, 71.841919],\n","     [-175.544595, 71.573861],\n","     [-173.959239, 71.242815],\n","     [-173.940843, 71.2374],\n","     [-173.963758, 71.090475],\n","     [-177.000554, 71.115154]]]]},\n"," 'links': [{'rel': 'self',\n","   'href': 'https://data.lpdaac.earthdatacloud.nasa.gov/lp-prod-public/HLSS30.020/HLS.S30.T01WEV.2024153T000609.v2.0/HLS.S30.T01WEV.2024153T000609.v2.0_stac.json',\n","   'type': 'application/json'},\n","  {'rel': 'cite-as', 'href': 'https://doi.org/10.5067/HLS/HLSS30.002'}],\n"," 'assets': {'B01': {'href': 'https://data.lpdaac.earthdatacloud.nasa.gov/lp-prod-protected/HLSS30.020/HLS.S30.T01WEV.2024153T000609.v2.0/HLS.S30.T01WEV.2024153T000609.v2.0.B01.tif',\n","   'type': 'image/tiff; application=geotiff; profile=cloud-optimized',\n","   'eo:bands': [{'name': 'B01',\n","     'common_name': 'coastal',\n","     'center_wavelength': 0.4439,\n","     'full_width_half_max': 0.027}],\n","   'roles': ['data']},\n","  'B02': {'href': 'https://data.lpdaac.earthdatacloud.nasa.gov/lp-prod-protected/HLSS30.020/HLS.S30.T01WEV.2024153T000609.v2.0/HLS.S30.T01WEV.2024153T000609.v2.0.B02.tif',\n","   'type': 'image/tiff; application=geotiff; profile=cloud-optimized',\n","   'eo:bands': [{'name': 'B02',\n","     'common_name': 'blue',\n","     'center_wavelength': 0.4966,\n","     'full_width_half_max': 0.098}],\n","   'roles': ['data']},\n","  'B03': {'href': 'https://data.lpdaac.earthdatacloud.nasa.gov/lp-prod-protected/HLSS30.020/HLS.S30.T01WEV.2024153T000609.v2.0/HLS.S30.T01WEV.2024153T000609.v2.0.B03.tif',\n","   'type': 'image/tiff; application=geotiff; profile=cloud-optimized',\n","   'eo:bands': [{'name': 'B03',\n","     'common_name': 'green',\n","     'center_wavelength': 0.56,\n","     'full_width_half_max': 0.045}],\n","   'roles': ['data']},\n","  'B04': {'href': 'https://data.lpdaac.earthdatacloud.nasa.gov/lp-prod-protected/HLSS30.020/HLS.S30.T01WEV.2024153T000609.v2.0/HLS.S30.T01WEV.2024153T000609.v2.0.B04.tif',\n","   'type': 'image/tiff; application=geotiff; profile=cloud-optimized',\n","   'eo:bands': [{'name': 'B04',\n","     'common_name': 'red',\n","     'center_wavelength': 0.6645,\n","     'full_width_half_max': 0.038}],\n","   'roles': ['data']},\n","  'B05': {'href': 'https://data.lpdaac.earthdatacloud.nasa.gov/lp-prod-protected/HLSS30.020/HLS.S30.T01WEV.2024153T000609.v2.0/HLS.S30.T01WEV.2024153T000609.v2.0.B05.tif',\n","   'type': 'image/tiff; application=geotiff; profile=cloud-optimized',\n","   'eo:bands': [{'name': 'B05',\n","     'center_wavelength': 0.7039,\n","     'full_width_half_max': 0.019}],\n","   'roles': ['data']},\n","  'B06': {'href': 'https://data.lpdaac.earthdatacloud.nasa.gov/lp-prod-protected/HLSS30.020/HLS.S30.T01WEV.2024153T000609.v2.0/HLS.S30.T01WEV.2024153T000609.v2.0.B06.tif',\n","   'type': 'image/tiff; application=geotiff; profile=cloud-optimized',\n","   'eo:bands': [{'name': 'B06',\n","     'center_wavelength': 0.7402,\n","     'full_width_half_max': 0.018}],\n","   'roles': ['data']},\n","  'B07': {'href': 'https://data.lpdaac.earthdatacloud.nasa.gov/lp-prod-protected/HLSS30.020/HLS.S30.T01WEV.2024153T000609.v2.0/HLS.S30.T01WEV.2024153T000609.v2.0.B07.tif',\n","   'type': 'image/tiff; application=geotiff; profile=cloud-optimized',\n","   'eo:bands': [{'name': 'B07',\n","     'center_wavelength': 0.7825,\n","     'full_width_half_max': 0.028}],\n","   'roles': ['data']},\n","  'B08': {'href': 'https://data.lpdaac.earthdatacloud.nasa.gov/lp-prod-protected/HLSS30.020/HLS.S30.T01WEV.2024153T000609.v2.0/HLS.S30.T01WEV.2024153T000609.v2.0.B08.tif',\n","   'type': 'image/tiff; application=geotiff; profile=cloud-optimized',\n","   'eo:bands': [{'name': 'B08',\n","     'common_name': 'nir',\n","     'center_wavelength': 0.8351,\n","     'full_width_half_max': 0.145}],\n","   'roles': ['data']},\n","  'B8A': {'href': 'https://data.lpdaac.earthdatacloud.nasa.gov/lp-prod-protected/HLSS30.020/HLS.S30.T01WEV.2024153T000609.v2.0/HLS.S30.T01WEV.2024153T000609.v2.0.B8A.tif',\n","   'type': 'image/tiff; application=geotiff; profile=cloud-optimized',\n","   'eo:bands': [{'name': 'B8A',\n","     'center_wavelength': 0.8648,\n","     'full_width_half_max': 0.033}],\n","   'roles': ['data']},\n","  'B09': {'href': 'https://data.lpdaac.earthdatacloud.nasa.gov/lp-prod-protected/HLSS30.020/HLS.S30.T01WEV.2024153T000609.v2.0/HLS.S30.T01WEV.2024153T000609.v2.0.B09.tif',\n","   'type': 'image/tiff; application=geotiff; profile=cloud-optimized',\n","   'eo:bands': [{'name': 'B09',\n","     'center_wavelength': 0.945,\n","     'full_width_half_max': 0.026}],\n","   'roles': ['data']},\n","  'B10': {'href': 'https://data.lpdaac.earthdatacloud.nasa.gov/lp-prod-protected/HLSS30.020/HLS.S30.T01WEV.2024153T000609.v2.0/HLS.S30.T01WEV.2024153T000609.v2.0.B10.tif',\n","   'type': 'image/tiff; application=geotiff; profile=cloud-optimized',\n","   'eo:bands': [{'name': 'B10',\n","     'common_name': 'cirrus',\n","     'center_wavelength': 1.3735,\n","     'full_width_half_max': 0.075}],\n","   'roles': ['data']},\n","  'B11': {'href': 'https://data.lpdaac.earthdatacloud.nasa.gov/lp-prod-protected/HLSS30.020/HLS.S30.T01WEV.2024153T000609.v2.0/HLS.S30.T01WEV.2024153T000609.v2.0.B11.tif',\n","   'type': 'image/tiff; application=geotiff; profile=cloud-optimized',\n","   'eo:bands': [{'name': 'B11',\n","     'common_name': 'swir16',\n","     'center_wavelength': 1.6137,\n","     'full_width_half_max': 0.143}],\n","   'roles': ['data']},\n","  'B12': {'href': 'https://data.lpdaac.earthdatacloud.nasa.gov/lp-prod-protected/HLSS30.020/HLS.S30.T01WEV.2024153T000609.v2.0/HLS.S30.T01WEV.2024153T000609.v2.0.B12.tif',\n","   'type': 'image/tiff; application=geotiff; profile=cloud-optimized',\n","   'eo:bands': [{'name': 'B12',\n","     'common_name': 'swir22',\n","     'center_wavelength': 2.22024,\n","     'full_width_half_max': 0.242}],\n","   'roles': ['data']},\n","  'Fmask': {'href': 'https://data.lpdaac.earthdatacloud.nasa.gov/lp-prod-protected/HLSS30.020/HLS.S30.T01WEV.2024153T000609.v2.0/HLS.S30.T01WEV.2024153T000609.v2.0.Fmask.tif',\n","   'type': 'image/tiff; application=geotiff; profile=cloud-optimized',\n","   'eo:bands': [{'name': 'Fmask'}],\n","   'roles': ['data']},\n","  'SZA': {'href': 'https://data.lpdaac.earthdatacloud.nasa.gov/lp-prod-protected/HLSS30.020/HLS.S30.T01WEV.2024153T000609.v2.0/HLS.S30.T01WEV.2024153T000609.v2.0.SZA.tif',\n","   'type': 'image/tiff; application=geotiff; profile=cloud-optimized',\n","   'eo:bands': [{'name': 'SZA'}],\n","   'roles': ['data']},\n","  'SAA': {'href': 'https://data.lpdaac.earthdatacloud.nasa.gov/lp-prod-protected/HLSS30.020/HLS.S30.T01WEV.2024153T000609.v2.0/HLS.S30.T01WEV.2024153T000609.v2.0.SAA.tif',\n","   'type': 'image/tiff; application=geotiff; profile=cloud-optimized',\n","   'eo:bands': [{'name': 'SAA'}],\n","   'roles': ['data']},\n","  'VZA': {'href': 'https://data.lpdaac.earthdatacloud.nasa.gov/lp-prod-protected/HLSS30.020/HLS.S30.T01WEV.2024153T000609.v2.0/HLS.S30.T01WEV.2024153T000609.v2.0.VZA.tif',\n","   'type': 'image/tiff; application=geotiff; profile=cloud-optimized',\n","   'eo:bands': [{'name': 'VZA'}],\n","   'roles': ['data']},\n","  'VAA': {'href': 'https://data.lpdaac.earthdatacloud.nasa.gov/lp-prod-protected/HLSS30.020/HLS.S30.T01WEV.2024153T000609.v2.0/HLS.S30.T01WEV.2024153T000609.v2.0.VAA.tif',\n","   'type': 'image/tiff; application=geotiff; profile=cloud-optimized',\n","   'eo:bands': [{'name': 'VAA'}],\n","   'roles': ['data']},\n","  'thumbnail': {'href': 'https://data.lpdaac.earthdatacloud.nasa.gov/lp-prod-public/HLSS30.020/HLS.S30.T01WEV.2024153T000609.v2.0/HLS.S30.T01WEV.2024153T000609.v2.0.jpg',\n","   'type': 'image/jpeg',\n","   'roles': ['thumbnail']}},\n"," 'bbox': [-177.000575, 71.090475, -173.940843, 71.841919],\n"," 'stac_extensions': ['https://stac-extensions.github.io/eo/v1.0.0/schema.json',\n","  'https://stac-extensions.github.io/projection/v1.0.0/schema.json',\n","  'https://stac-extensions.github.io/view/v1.0.0/schema.json',\n","  'https://stac-extensions.github.io/scientific/v1.0.0/schema.json']}"]
          },
          "metadata":{
          },
          "output_type":"execute_result"
        }],
      "cell_type":"code",
      "execution_count":32,
      "metadata":{
      },
      "source":["\n","test = await rustac.write(\n","    \"test.parquet\",\n","    [item_dict],\n",")"]
    }],
  "metadata":{
    "language_info":{
      "file_extension":".py",
      "mimetype":"text/x-python",
      "codemirror_mode":{
        "name":"ipython",
        "version":3
      },
      "version":"3.13.0",
      "name":"python",
      "pygments_lexer":"ipython3",
      "nbconvert_exporter":"python"
    },
    "kernelspec":{
      "language":"python",
      "name":"python3",
      "display_name":"Python 3 (ipykernel)"
    }
  }
}